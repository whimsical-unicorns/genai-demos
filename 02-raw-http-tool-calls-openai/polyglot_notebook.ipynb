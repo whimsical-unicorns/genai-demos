{
 "cells": [
  {
   "cell_type": "markdown",
   "metadata": {},
   "source": [
    "# Low level \"raw\" OpenAI API, no libraries\n",
    "## First setup request data\n",
    "- messages array with \"chat history\" (since models are stateless)\n",
    "- tools array that describes what LLM can \"ask for to be executed on its behalf\"\n",
    "- we can define the function with any \"schema\" and execute it anyway we want, be it local function, API call or another LLM\n",
    "- basic headers"
   ]
  },
  {
   "cell_type": "code",
   "execution_count": 1,
   "metadata": {
    "dotnet_interactive": {
     "language": "javascript"
    },
    "polyglot_notebook": {
     "kernelName": "javascript"
    }
   },
   "outputs": [
    {
     "data": {
      "application/json": {
       "max_tokens": 4000,
       "messages": [
        {
         "content": "Hello, can you please calculate square root of 4786?",
         "role": "user"
        }
       ],
       "model": "gpt-4o",
       "temperature": 0,
       "tools": [
        {
         "function": {
          "description": "Calculate square root of a number",
          "name": "square_root",
          "parameters": {
           "properties": {
            "number": {
             "description": "Number to calculate square root of",
             "type": "number"
            }
           },
           "required": [
            "number"
           ],
           "type": "object"
          }
         },
         "type": "function"
        }
       ]
      }
     },
     "metadata": {},
     "output_type": "display_data"
    }
   ],
   "source": [
    "const configRq = await fetch('./config.json');\n",
    "config = await configRq.json(); // polyglot global variables are without modifiers\n",
    "\n",
    "const model = 'gpt-4o';\n",
    "requestData = {\n",
    "    model: model,\n",
    "    messages: [{\n",
    "        role: 'user',\n",
    "        content: 'Hello, can you please calculate square root of 4786?'\n",
    "    }],\n",
    "    temperature: 0,\n",
    "    max_tokens: 4000,\n",
    "    // top_p: 1,\n",
    "    // frequency_penalty: 0,\n",
    "    // presence_penalty: 0,\n",
    "    // seed: null\n",
    "};\n",
    "\n",
    "requestData.tools = [\n",
    "    {\n",
    "        type: 'function',\n",
    "        function: {\n",
    "            name: 'square_root',\n",
    "            description: 'Calculate square root of a number',\n",
    "            parameters: {\n",
    "                type: 'object',\n",
    "                properties: {\n",
    "                    number: {\n",
    "                        type: 'number',\n",
    "                        description: 'Number to calculate square root of'\n",
    "                    }\n",
    "                },\n",
    "                required: ['number']\n",
    "            }\n",
    "        }\n",
    "    }\n",
    "];\n",
    "\n",
    "return requestData;"
   ]
  },
  {
   "cell_type": "markdown",
   "metadata": {},
   "source": [
    "## HTTP call 1\n",
    "- Make simple HTTP call (fetch) to OpenAI with above payload\n",
    "- print out \"raw\" response"
   ]
  },
  {
   "cell_type": "code",
   "execution_count": 2,
   "metadata": {
    "dotnet_interactive": {
     "language": "javascript"
    },
    "polyglot_notebook": {
     "kernelName": "javascript"
    }
   },
   "outputs": [
    {
     "data": {
      "application/json": {
       "choices": [
        {
         "finish_reason": "tool_calls",
         "index": 0,
         "logprobs": null,
         "message": {
          "content": null,
          "role": "assistant",
          "tool_calls": [
           {
            "function": {
             "arguments": "{\"number\":4786}",
             "name": "square_root"
            },
            "id": "call_eezJULpXERLzWqaqg4xmIL3j",
            "type": "function"
           }
          ]
         }
        }
       ],
       "created": 1720566326,
       "id": "chatcmpl-9jEBiFk4CFnpbtwhQvAxwgeUiPCcd",
       "model": "gpt-4o-2024-05-13",
       "object": "chat.completion",
       "system_fingerprint": "fp_d33f7b429e",
       "usage": {
        "completion_tokens": 15,
        "prompt_tokens": 65,
        "total_tokens": 80
       }
      }
     },
     "metadata": {},
     "output_type": "display_data"
    }
   ],
   "source": [
    "apiUrl = 'https://api.openai.com/v1/chat/completions';\n",
    "headers = {\n",
    "    'Content-Type': 'application/json',\n",
    "    Authorization: `Bearer ${config.OpenAIAPIKey}`,\n",
    "};\n",
    "\n",
    "mainRequest = await fetch(apiUrl, {\n",
    "    method: 'POST',\n",
    "    headers: headers,\n",
    "    body: JSON.stringify(requestData),\n",
    "});\n",
    "\n",
    "if (!mainRequest.ok) {\n",
    "    throw new Error(`HTTP error! status: ${mainRequest.status}`);\n",
    "}\n",
    "\n",
    "mainResponse = await mainRequest.json();\n",
    "\n",
    "return mainResponse;"
   ]
  },
  {
   "cell_type": "markdown",
   "metadata": {},
   "source": [
    "## Model responds with:\n",
    "- general metadata (msg id, type, dates, model...)\n",
    "- choices (can be multiple); this is answers\n",
    "- the choice is a tool call; LLM is asking **us** to execute a tool we described\n",
    "- arguments of the function called *usually* follow the schema provided above\n",
    "\n",
    "## Now prepare second \"round\" of payload\n",
    "- add tool call request to \"history\" for model's reference (optional; works even without it, *usually* =))\n",
    "- read arguments of tool call and prepare result\n",
    "- add tool result into \"history\"/context\n",
    "   - again, LLMs are stateless (as of 07/2024)\n",
    "   - we need to provide complete \"conversation\" for it \"to guess the best next token\""
   ]
  },
  {
   "cell_type": "code",
   "execution_count": 3,
   "metadata": {
    "dotnet_interactive": {
     "language": "javascript"
    },
    "polyglot_notebook": {
     "kernelName": "javascript"
    }
   },
   "outputs": [
    {
     "data": {
      "text/plain": [
       "Tool called: square_root, arguments: {\"number\":4786}, id: call_eezJULpXERLzWqaqg4xmIL3j"
      ]
     },
     "metadata": {},
     "output_type": "display_data"
    },
    {
     "data": {
      "application/json": [
       {
        "content": "Hello, can you please calculate square root of 4786?",
        "role": "user"
       },
       {
        "content": null,
        "role": "assistant",
        "tool_calls": [
         {
          "function": {
           "arguments": "{\"number\":4786}",
           "name": "square_root"
          },
          "id": "call_eezJULpXERLzWqaqg4xmIL3j",
          "type": "function"
         }
        ]
       },
       {
        "content": "69.18092222571191",
        "role": "tool",
        "tool_call_id": "call_eezJULpXERLzWqaqg4xmIL3j"
       }
      ]
     },
     "metadata": {},
     "output_type": "display_data"
    }
   ],
   "source": [
    "toolCalled = mainResponse?.choices?.[0]?.message?.tool_calls?.[0];\n",
    "console.log(`Tool called: ${toolCalled?.function?.name}, arguments: ${toolCalled?.function?.arguments}, id: ${toolCalled?.id}`);\n",
    "\n",
    "toolArguments = JSON.parse(toolCalled?.function?.arguments);\n",
    "\n",
    "requestData.messages.push({\n",
    "    role: 'assistant',\n",
    "    content: null,\n",
    "    tool_calls: [\n",
    "        {\n",
    "            id: toolCalled?.id,\n",
    "            type: 'function',\n",
    "            function: {\n",
    "                name: toolCalled?.function?.name,\n",
    "                arguments: toolCalled?.function?.arguments,\n",
    "            },\n",
    "        },\n",
    "    ],\n",
    "});\n",
    "\n",
    "sqrt = Math.sqrt(toolArguments.number); // fun: return 71.987897 instead of truth; even more fun return -9\n",
    "\n",
    "requestData.messages.push({\n",
    "    role: 'tool',\n",
    "    content: JSON.stringify(sqrt),\n",
    "    tool_call_id: toolCalled?.id,\n",
    "});\n",
    "\n",
    "return requestData.messages;"
   ]
  },
  {
   "cell_type": "markdown",
   "metadata": {},
   "source": [
    "## Payload 2 review\n",
    "- see above messages array that gets sent to model\n",
    "- note that tool call ID is kept in sync, so that model can identify multiple and complex tool call chains\n",
    "\n",
    "## HTTP call 2\n",
    "- again, simple fetch, nothing smarter"
   ]
  },
  {
   "cell_type": "code",
   "execution_count": 4,
   "metadata": {
    "dotnet_interactive": {
     "language": "javascript"
    },
    "polyglot_notebook": {
     "kernelName": "javascript"
    }
   },
   "outputs": [
    {
     "data": {
      "application/json": {
       "choices": [
        {
         "finish_reason": "stop",
         "index": 0,
         "logprobs": null,
         "message": {
          "content": "The square root of 4786 is approximately 69.18.",
          "role": "assistant"
         }
        }
       ],
       "created": 1720566327,
       "id": "chatcmpl-9jEBjboLAbYeqK9QiXkYvqdXxCTWg",
       "model": "gpt-4o-2024-05-13",
       "object": "chat.completion",
       "system_fingerprint": "fp_4008e3b719",
       "usage": {
        "completion_tokens": 15,
        "prompt_tokens": 95,
        "total_tokens": 110
       }
      }
     },
     "metadata": {},
     "output_type": "display_data"
    }
   ],
   "source": [
    "try {\n",
    "    mainRequest2 = await fetch(apiUrl, {\n",
    "        method: 'POST',\n",
    "        headers: headers,\n",
    "        body: JSON.stringify(requestData),\n",
    "    });\n",
    "} catch (error) {\n",
    "    console.error(error);\n",
    "    return error;\n",
    "}\n",
    "\n",
    "if (!mainRequest2.ok) {\n",
    "    throw new Error(`HTTP error! status: ${mainRequest2.status}, ${await mainRequest2.json()}`);\n",
    "}\n",
    "\n",
    "mainResponse2 = await mainRequest2.json();\n",
    "\n",
    "return mainResponse2;"
   ]
  },
  {
   "cell_type": "markdown",
   "metadata": {},
   "source": [
    "## Final result\n",
    "- model reads the context and understands the tool was called with some result\n",
    "- it **may** or may **not** decide to use that result in its own answer\n",
    "\n",
    "## Tips or homeworks\n",
    "- What happens if the tool lies?\n",
    "- What happens if the tool lies *too much*?\n",
    "- Tool is a great way to force LLM to return exact structured output\n",
    "   - \"Fake\" tool call that is never returned to LLM and never passed to history is great \"hack\"\n",
    "   - Basically we want an answer from LLM in JSON\n",
    "   - We have even a schema to follow\n",
    "   - But if we \"just say\" it, it usually doesn't work well\n",
    "   - Instead, we can create a tool with schema and even force LLM to prefer tool calls\n",
    "   - We retrieve the \"arguments\", but those are our \"result\"; we throw away this part from conversation"
   ]
  }
 ],
 "metadata": {
  "kernelspec": {
   "display_name": ".NET (C#)",
   "language": "C#",
   "name": ".net-csharp"
  },
  "polyglot_notebook": {
   "kernelInfo": {
    "defaultKernelName": "csharp",
    "items": [
     {
      "aliases": [],
      "name": "csharp"
     },
     {
      "aliases": [],
      "languageName": "javascript",
      "name": "javascript"
     }
    ]
   }
  }
 },
 "nbformat": 4,
 "nbformat_minor": 2
}
